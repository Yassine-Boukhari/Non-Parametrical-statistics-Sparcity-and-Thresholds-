{
 "cells": [
  {
   "cell_type": "markdown",
   "metadata": {},
   "source": [
    "# Projet Statistiques Grandes dimensions (Sparcité et Détection de Rupture)"
   ]
  },
  {
   "cell_type": "markdown",
   "metadata": {},
   "source": [
    "<h1 align=\"center\">Essaddek Othmane</h1> \n",
    "\n",
    "<h1 align=\"center\">Boukhari Yassine</h1> "
   ]
  },
  {
   "cell_type": "markdown",
   "metadata": {},
   "source": [
    "## Partie I : Différentes méthodes de seuillage"
   ]
  },
  {
   "cell_type": "markdown",
   "metadata": {},
   "source": [
    "On suppose que l'on observe $y_1,...,y_n$ vérifiant le modèle de suite gaussienne :$$y_j=a\\eta_j+\\epsilon_j;\\quad j=1,...,d$$\n",
    "avec $a\\in \\mathbb{R}$ et $\\eta_j\\in{0,1}$ qui sont des paramètres inconnus tels que $$\\sum_{j=1}^d=[d^{1-\\beta}]\\quad\\text{pour un}\\;\\beta\\in(0,1)$$\n",
    "Où les variables aléatoires $\\epsilon$ sont i.i.d de loi $\\mathcal{N}(0,1)$\n",
    "On se fixe dans la suite $d=50$ et $\\beta=0.3$ et a variant de 1 à 10. on pose le seuil $\\tau=\\sqrt{2log(d)}$.\n",
    "On note $\\theta*=a.(\\eta_1,...,\\eta_d)^T$, afin d'estimer $\\theta*$ on considera par la suite trois type d'estimateur $\\textit{l'estimateur fort}$ $\\hat{\\theta}^H$, $\\textit{l'estimateur par seuillage faible}$ $\\hat{\\theta}^S$ et l'estimateur dit $\\textit{'non-negative garrotte'}$ $\\hat{\\theta}^{NG}$ definis de la manière suivante :\n",
    "\\begin{eqnarray*}\n",
    "\\hat{\\theta}^H&=y_jI(\\vert y_j\\vert>\\tau)\\\\\n",
    "\\hat{\\theta}^S&=y_j.(1-\\frac{\\tau}{\\vert y_j\\vert})_{+}\\\\\n",
    "\\hat{\\theta}^S&=y_j.(1-\\frac{\\tau^2}{\\vert y_j^2\\vert})_{+}\n",
    "\\end{eqnarray*}\n",
    "pour tout $j\\in{1,...,d}$ où $(a)_+=max\\{0,a\\}$"
   ]
  },
  {
   "cell_type": "markdown",
   "metadata": {},
   "source": [
    "### Importation de nos librairies"
   ]
  },
  {
   "cell_type": "code",
   "execution_count": 1,
   "metadata": {},
   "outputs": [],
   "source": [
    "import numpy as np\n",
    "import matplotlib.pyplot as plt\n",
    "import scipy.stats\n",
    "import time\n",
    "%matplotlib inline\n",
    "%matplotlib inline\n",
    "from math import *\n",
    "from numpy.random import *\n",
    "from numpy.linalg import *\n",
    "from scipy.misc import *\n",
    "from random import randrange\n",
    "\n"
   ]
  },
  {
   "cell_type": "markdown",
   "metadata": {},
   "source": [
    "### Question 1 (Tracée des différents seuillages)"
   ]
  },
  {
   "cell_type": "markdown",
   "metadata": {},
   "source": [
    "On commence par tracer nos différents seuillages $\\hat{\\theta}^H$,$\\hat{\\theta}^S$ et $\\hat{\\theta}^{NG}$ "
   ]
  },
  {
   "cell_type": "code",
   "execution_count": 2,
   "metadata": {},
   "outputs": [
    {
     "name": "stdout",
     "output_type": "stream",
     "text": [
      "15\n"
     ]
    },
    {
     "data": {
      "text/plain": [
       "<matplotlib.legend.Legend at 0x904c748>"
      ]
     },
     "execution_count": 2,
     "metadata": {},
     "output_type": "execute_result"
    },
    {
     "data": {
      "image/png": "[encoded data removed]",
      "text/plain": [
       "<Figure size 432x288 with 1 Axes>"
      ]
     },
     "metadata": {
      "needs_background": "light"
     },
     "output_type": "display_data"
    }
   ],
   "source": [
    "d=50\n",
    "\n",
    "to=np.sqrt(2*np.log(d))\n",
    "\n",
    "beta=0.3\n",
    "\n",
    "#a_=np.linspace(1,10,50)\n",
    "a=2\n",
    "I=int(d**(1-beta))\n",
    "print(I)\n",
    "\n",
    "eta_=np.zeros(50)\n",
    "\n",
    "\n",
    "def y(a):\n",
    "    j=0\n",
    "    eta_1=np.zeros(d)\n",
    "    n=0\n",
    "    while(n<I):\n",
    "        j=randrange(d)\n",
    "        if(eta_1[j]!=1):\n",
    "            eta_1[j]=1\n",
    "            n=n+1\n",
    "    theta=a*eta_1\n",
    "    y_=np.array([T+np.random.normal(0,1) for T in theta])  #theta+np.random.normal(0,1,d)\n",
    "    return([y_,theta])\n",
    "\n",
    "\n",
    "\n",
    "#print(y(10)[0])\n",
    "\n",
    "\n",
    "\n",
    "\n",
    "def thetaH(y,j):\n",
    "    if(np.abs(y)>to):\n",
    "        return(y)\n",
    "    else:\n",
    "        return(0)\n",
    "    \n",
    "    \n",
    "def thetaS(y,j):\n",
    "    x=max(0,1-to/(np.abs(y)))\n",
    "    return(int(x*y))\n",
    "\n",
    "def thetaNG(y,j):\n",
    "    x=max(0,1-to**2/(np.abs(y))**2)\n",
    "    return(x*y)\n",
    "\n",
    "\n",
    "y_1=np.linspace(-10,10,100)#theta+np.random.normal(0,1,d)\n",
    "tH=np.array([thetaH(y_1[i],0) for i in range(100)])\n",
    "tS=np.array([thetaS(y_1[i],0) for i in range(100)])\n",
    "tNG=np.array([thetaNG(y_1[i],0) for i in range(100)])\n",
    "plt.plot(y_1,tH,label=\"$\\hat{\\\\theta}^H$\")\n",
    "plt.plot(y_1,tS,label=\"$\\hat{\\\\theta}^S$\")\n",
    "plt.plot(y_1,tNG,label=\"$\\hat{\\\\theta}^{NG}$\")\n",
    "plt.legend()"
   ]
  },
  {
   "cell_type": "markdown",
   "metadata": {},
   "source": [
    "### Vérification de la sparcité de nos données"
   ]
  },
  {
   "cell_type": "code",
   "execution_count": 3,
   "metadata": {},
   "outputs": [
    {
     "name": "stdout",
     "output_type": "stream",
     "text": [
      "[0.         0.         0.         0.         0.         0.\n",
      " 0.         0.         0.         0.         2.97757669 0.\n",
      " 0.         0.         0.         0.         3.39636544 0.\n",
      " 0.         0.         0.         0.         0.         0.\n",
      " 0.         0.         0.         0.         0.         0.\n",
      " 0.         3.11877713 0.         0.         0.         0.\n",
      " 0.         0.         0.         0.         0.         0.\n",
      " 2.94417476 0.         0.         0.         0.         0.\n",
      " 0.         0.        ]\n",
      "[2. 2. 0. 0. 2. 2. 0. 0. 0. 2. 2. 0. 0. 0. 0. 0. 2. 2. 0. 0. 0. 0. 0. 2.\n",
      " 0. 0. 0. 0. 0. 2. 0. 2. 0. 2. 0. 0. 0. 0. 2. 0. 0. 0. 2. 0. 0. 0. 2. 0.\n",
      " 0. 0.]\n",
      "[4.         4.         0.         0.         4.         4.\n",
      " 0.         0.         0.         4.         0.95565618 0.\n",
      " 0.         0.         0.         0.         1.94983644 4.\n",
      " 0.         0.         0.         0.         0.         4.\n",
      " 0.         0.         0.         0.         0.         4.\n",
      " 0.         1.25166226 0.         4.         0.         0.\n",
      " 0.         0.         4.         0.         0.         0.\n",
      " 0.89146597 0.         0.         0.         4.         0.\n",
      " 0.         0.        ]\n",
      "49.04862085110963\n"
     ]
    }
   ],
   "source": [
    "T=y(2)[1]\n",
    "e=np.array([t+np.random.normal(0,1) for t in T])\n",
    "            \n",
    "tt=np.array([thetaH(j,0) for j in e])\n",
    "\n",
    "print(tt)\n",
    "print(T)\n",
    "print((T-tt)**2)\n",
    "print(np.sum((T-tt)**2))"
   ]
  },
  {
   "cell_type": "markdown",
   "metadata": {},
   "source": [
    "### Question 2 Estimation du risque quadratique des différents seuillages  "
   ]
  },
  {
   "cell_type": "markdown",
   "metadata": {},
   "source": [
    "On note $R(\\hat{\\theta},a)=\\vert\\vert\\hat{\\theta}-\\theta^*\\vert\\vert^2_2$ le risque quadratique de l'estimateur $\\hat{\\theta}$.\n",
    "On représente graphiquement les différents risques pour a variant de $1$ à $10$. En premier lieu on a calculé le risque quadratique de manière $\\textit{'naive'}$ et pour avoir une meilleure idée sur l'erreur on a calculé l'erreur moyenne commise après n simulations"
   ]
  },
  {
   "cell_type": "code",
   "execution_count": 19,
   "metadata": {},
   "outputs": [
    {
     "name": "stdout",
     "output_type": "stream",
     "text": [
      "(50,)\n"
     ]
    },
    {
     "data": {
      "text/plain": [
       "<matplotlib.legend.Legend at 0xa9bbb08>"
      ]
     },
     "execution_count": 19,
     "metadata": {},
     "output_type": "execute_result"
    },
    {
     "data": {
      "image/png": "[encoded data removed]",
      "text/plain": [
       "<Figure size 432x288 with 1 Axes>"
      ]
     },
     "metadata": {
      "needs_background": "light"
     },
     "output_type": "display_data"
    }
   ],
   "source": [
    "print(np.shape((y(0.5))[1]))\n",
    "a_=[0,1,2,3,4,5,6,7,8,9]\n",
    "\n",
    "a__=np.linspace(0,100,20)\n",
    "\n",
    "SH=np.zeros(20)\n",
    "SS=np.zeros(20)\n",
    "Sgn=np.zeros(20)\n",
    "\n",
    "for i in range(20):\n",
    "    (Y,T)=y(a__[i])\n",
    "\n",
    "    tH=np.array([thetaH(j,0) for j in Y])\n",
    "    tS=np.array([thetaS(j,0)for j in Y])\n",
    "    tGN=np.array([thetaNG(j,0)for j in Y])   \n",
    "\n",
    "    e=np.array([t+np.random.normal(0,1) for t in T])\n",
    "            \n",
    "    tt=np.array([thetaH(j,0) for j in Y])\n",
    "    \n",
    "    SH[i]=np.sum((T-tt)**2)#np.sqrt(s)\n",
    "    SS[i]=np.sum((T-tS)**2)#np.sqrt(ss)\n",
    "    Sgn[i]=np.sum((T-tGN)**2)#np.sqrt(sgn)\n",
    "plt.plot(a__,np.sqrt(SH),'red',label='$R(\\hat{\\\\theta}^H,a)$')\n",
    "plt.plot(a__,np.sqrt(SS),'green',label='$R(\\hat{\\\\theta}^S,a)$')\n",
    "plt.plot(a__,np.sqrt(Sgn),label='$R(\\hat{\\\\theta}^NG,a)$')\n",
    "plt.legend()"
   ]
  },
  {
   "cell_type": "code",
   "execution_count": 20,
   "metadata": {},
   "outputs": [
    {
     "name": "stdout",
     "output_type": "stream",
     "text": [
      "(50,)\n"
     ]
    },
    {
     "data": {
      "text/plain": [
       "<matplotlib.legend.Legend at 0xaa0d248>"
      ]
     },
     "execution_count": 20,
     "metadata": {},
     "output_type": "execute_result"
    },
    {
     "data": {
      "image/png": "[encoded data removed]",
      "text/plain": [
       "<Figure size 432x288 with 1 Axes>"
      ]
     },
     "metadata": {
      "needs_background": "light"
     },
     "output_type": "display_data"
    }
   ],
   "source": [
    "print(np.shape((y(0.5))[1]))\n",
    "a_=[0,1,2,3,4,5,6,7,8,9]\n",
    "\n",
    "a__=np.linspace(0,100,20)\n",
    "\n",
    "SH=np.zeros(20)\n",
    "SS=np.zeros(20)\n",
    "Sgn=np.zeros(20)\n",
    "\n",
    "for i in range(20):\n",
    "    lH=np.zeros(100)\n",
    "    lS=np.zeros(100)\n",
    "    lGn=np.zeros(100)\n",
    "    for k in range(100):\n",
    "        (Y,T)=y(a__[i])\n",
    "\n",
    "        tH=np.array([thetaH(j,0) for j in Y])\n",
    "        tS=np.array([thetaS(j,0)for j in Y])\n",
    "        tGN=np.array([thetaNG(j,0)for j in Y])   \n",
    "\n",
    "        e=np.array([t+np.random.normal(0,1) for t in T])\n",
    "\n",
    "        tt=np.array([thetaH(j,0) for j in Y])\n",
    "\n",
    "        lH[k]=np.sum((T-tt)**2)#np.sqrt(s)\n",
    "        lS[k]=np.sum((T-tS)**2)#np.sqrt(ss)\n",
    "        lGn[k]=np.sum((T-tGN)**2)#np.sqrt(sgn)\n",
    "    SH[i]=np.mean(lH)\n",
    "    SS[i]=np.mean(lS)\n",
    "    Sgn[i]=np.mean(lGn)\n",
    "    \n",
    "plt.plot(a__,np.sqrt(SH),'red',label='$R(\\hat{\\\\theta}^H,a)$')\n",
    "plt.plot(a__,np.sqrt(SS),'green',label='$R(\\hat{\\\\theta}^S,a)$')\n",
    "plt.plot(a__,np.sqrt(Sgn),label='$R(\\hat{\\\\theta}^NG,a)$')\n",
    "plt.legend()"
   ]
  },
  {
   "cell_type": "markdown",
   "metadata": {},
   "source": [
    "### Question 3 : Sélection des coordonnées non nulles de $\\theta^*$ et étude du risque  $R^{MS}$"
   ]
  },
  {
   "cell_type": "markdown",
   "metadata": {},
   "source": [
    "Pour cette dernière question on s'intéresse à déterminer les ccordonnées non nulles de notre $\\theta^*$ selon le seuillage dur et on étudiera le risque de sélection de variables donnée par $R^{MS}(\\hat{\\theta},a)=\\sum_{j=1}^M\\vert\\eta_j-\\hat{\\eta_j}\\vert$ on suivera la même méthodologie que la partie précédente pour calculer le risque et la moyenne des riques."
   ]
  },
  {
   "cell_type": "code",
   "execution_count": 21,
   "metadata": {},
   "outputs": [
    {
     "data": {
      "text/plain": [
       "<matplotlib.legend.Legend at 0xaadd048>"
      ]
     },
     "execution_count": 21,
     "metadata": {},
     "output_type": "execute_result"
    },
    {
     "data": {
      "image/png": "[encoded data removed]",
      "text/plain": [
       "<Figure size 432x288 with 1 Axes>"
      ]
     },
     "metadata": {
      "needs_background": "light"
     },
     "output_type": "display_data"
    }
   ],
   "source": [
    "def yt(a):\n",
    "    j=0\n",
    "    eta_1=np.zeros(d)\n",
    "    n=0\n",
    "    while(n<I):\n",
    "        j=randrange(d)\n",
    "        if(eta_1[j]!=1):\n",
    "            eta_1[j]=1\n",
    "            n=n+1\n",
    "    theta=a*eta_1\n",
    "    y_=theta+np.random.normal(0,1,d)\n",
    "    return([y_,eta_1])\n",
    "\n",
    "Rsm=[]\n",
    "Rsmd=[]\n",
    "Rsms=[]\n",
    "for a in a_:\n",
    "    ind=[]\n",
    "    indd=[]\n",
    "    eta_hat=np.zeros(d)\n",
    "    eta_hatd=np.zeros(d)\n",
    "    eta_hats=np.zeros(d)\n",
    "    (Y,eta)=yt(a)\n",
    "#     eta=yt(a)[1]\n",
    "    for i in range(d):\n",
    "        eta_hat[i]=int((Y[i]>to) )\n",
    "        eta_hatd[i]=max(0,1-to/np.abs(Y[i]))\n",
    "        eta_hats[i]=max(0,1-to**2/(np.abs(Y[i]))**2)\n",
    "    for k in range(d):\n",
    "        if(eta_hat[k]==1):\n",
    "            ind.append(k)\n",
    "    s=0\n",
    "    sd=0\n",
    "    ss=0\n",
    "#     print(ind)\n",
    "    for j in range(d):\n",
    "        s=s+np.abs(eta[j]-eta_hat[j])\n",
    "        sd=sd+np.abs(eta[j]-eta_hatd[j])\n",
    "        ss=ss+np.abs(eta[j]-eta_hats[j])\n",
    "    Rsm.append(s)\n",
    "    Rsmd.append(sd)\n",
    "    Rsms.append(ss)\n",
    "\n",
    "            \n",
    "plt.plot(a_,Rsm,label='$R^MS(\\hat{\\\\theta},a)$')\n",
    "plt.plot(a_,Rsmd,label='$R^MS(\\hat{\\\\theta^H},a)$')\n",
    "plt.plot(a_,Rsms,label='$R^MS(\\hat{\\\\theta^S},a)$')\n",
    "plt.legend()"
   ]
  },
  {
   "cell_type": "code",
   "execution_count": 6,
   "metadata": {},
   "outputs": [
    {
     "data": {
      "text/plain": [
       "<matplotlib.legend.Legend at 0x92cab88>"
      ]
     },
     "execution_count": 6,
     "metadata": {},
     "output_type": "execute_result"
    },
    {
     "data": {
      "image/png": "[encoded data removed]",
      "text/plain": [
       "<Figure size 432x288 with 1 Axes>"
      ]
     },
     "metadata": {
      "needs_background": "light"
     },
     "output_type": "display_data"
    }
   ],
   "source": [
    "def yt(a):   # fonction qui prend a en argument et  renvoie un échantillon et le eta avec quoi il a etait construit \n",
    "    j=0\n",
    "    eta_1=np.zeros(d)\n",
    "    n=0\n",
    "    while(n<I):\n",
    "        j=randrange(d)\n",
    "        if(eta_1[j]!=1):\n",
    "            eta_1[j]=1\n",
    "            n=n+1\n",
    "    theta=a*eta_1\n",
    "    y_=theta+np.random.normal(0,1,d)\n",
    "    return([y_,eta_1])\n",
    "\n",
    "Rsm=[]\n",
    "Rsmd=[]\n",
    "Rsms=[]\n",
    "for a in a_:  #boucle sur les a\n",
    "    lH=np.zeros(100)       #\n",
    "    lS=np.zeros(100)       # initialisation du compteur d'erreurs pour les 3 type de suillage\n",
    "    lGn=np.zeros(100)      #\n",
    "    \n",
    "    for j in range(100):\n",
    "        eta_hat=np.zeros(d)\n",
    "        eta_hatd=np.zeros(d)\n",
    "        eta_hats=np.zeros(d)\n",
    "        (Y,eta)=yt(a)\n",
    "        \n",
    "        for i in range(d):\n",
    "            eta_hat[i]=int((Y[i]>to) )\n",
    "            eta_hatd[i]=max(0,1-to/np.abs(Y[i]))\n",
    "            eta_hats[i]=max(0,1-to**2/(np.abs(Y[i]))**2)\n",
    "        s=0\n",
    "        sd=0\n",
    "        ss=0\n",
    "        \n",
    "        for k in range(d):\n",
    "            s=s+np.abs(eta[k]-eta_hat[k])\n",
    "            sd=sd+np.abs(eta[k]-eta_hatd[k])\n",
    "            ss=ss+np.abs(eta[k]-eta_hats[k])\n",
    "            \n",
    "        lH[j]=s\n",
    "        lS[j]=sd\n",
    "        lGn[j]=ss\n",
    "            \n",
    "    Rsm.append(np.mean(lH))\n",
    "    Rsmd.append(np.mean(lS))\n",
    "    Rsms.append(np.mean(lGn))\n",
    "\n",
    "            \n",
    "plt.plot(a_,Rsm,label='$R^{MS}(\\hat{\\\\theta},a)$')\n",
    "plt.plot(a_,Rsmd,label='$R^{MS}(\\hat{\\\\theta^H},a)$')\n",
    "plt.plot(a_,Rsms,label='$R^{MS}(\\hat{\\\\theta^S},a)$')\n",
    "plt.legend()"
   ]
  },
  {
   "cell_type": "markdown",
   "metadata": {},
   "source": [
    "## Partie II : Détéction de rupture"
   ]
  },
  {
   "cell_type": "markdown",
   "metadata": {},
   "source": [
    "Supposons que l'on observe $y_1,...,y_d$ vérifiant le modèle de suite gaussienne \n",
    "$$y_j=\\theta_j^*+\\epsilon.\\xi_j;\\quad j=1,...,d$$\n",
    "avec $\\epsilon=1/\\sqrt{d}$, $\\theta^*=( \\theta^*_1,..., \\theta^*_d)^T$ est tel que : \n",
    "   $\\left\\{\n",
    "   \\begin{aligned}\n",
    "      \\theta_j^* &= 3 \\;\\text{pour} j\\in\\{1,...,10\\}\\\\   \n",
    "      \\theta_j^* &= 7 \\;\\text{pour} j\\in\\{11,...,30\\}\\\\\n",
    "      \\theta_j^* &= 1,5 \\;\\text{pour} j\\in\\{31,...,40\\}\\\\\n",
    "      \\theta_j^* &= 2 \\;\\text{pour} j\\in\\{41,...,d\\}\n",
    "   \\end{aligned}.\n",
    "   \\right.$"
   ]
  },
  {
   "cell_type": "markdown",
   "metadata": {},
   "source": [
    "Les variables aléatoires $\\xi_j$ sont i.i.d de loi $\\mathcal{N}(0,1)$. On fixe $d=50$. Pour ce qui va suivre on propose une méthode pour détecter les instants de ruptures dans le vecteur $\\theta^*$.\n",
    "On commence tout d'abords par simuler nos différents $y_j$ chose qui fera apparaitre nos différents saut et ainsi nos ruptures. "
   ]
  },
  {
   "cell_type": "markdown",
   "metadata": {},
   "source": [
    "Pour la partie graphique on s'intéressera au graphe lié à la fonction \\Delta qu'on définira pour tout $j\\in J={2,...,d},$ $\\;\\Delta_j= Y_{j+1}-Y{j}$  "
   ]
  },
  {
   "cell_type": "code",
   "execution_count": 22,
   "metadata": {},
   "outputs": [
    {
     "data": {
      "image/png": "[encoded data removed]",
      "text/plain": [
       "<Figure size 432x288 with 1 Axes>"
      ]
     },
     "metadata": {
      "needs_background": "light"
     },
     "output_type": "display_data"
    },
    {
     "data": {
      "image/png": "[encoded data removed]",
      "text/plain": [
       "<Figure size 432x288 with 1 Axes>"
      ]
     },
     "metadata": {
      "needs_background": "light"
     },
     "output_type": "display_data"
    },
    {
     "data": {
      "image/png": "[encoded data removed]",
      "text/plain": [
       "<Figure size 432x288 with 1 Axes>"
      ]
     },
     "metadata": {
      "needs_background": "light"
     },
     "output_type": "display_data"
    },
    {
     "name": "stdout",
     "output_type": "stream",
     "text": [
      "[10, 30, 40, 43]\n",
      "[2.25525567e-01 3.87949288e-02 1.57354384e-01 5.21119811e-02\n",
      " 7.01443130e-02 3.00810918e-01 2.03702373e-01 1.08850927e-01\n",
      " 1.21851954e-01 4.22018709e+00 9.31715940e-02 2.49638213e-01\n",
      " 3.59617056e-01 2.38124736e-01 1.24493247e-01 8.21561003e-02\n",
      " 2.81414696e-01 3.14838933e-01 4.87177390e-02 4.38693593e-02\n",
      " 2.17311538e-01 2.64768669e-01 1.40829155e-01 3.16184601e-02\n",
      " 1.94067631e-01 3.66904733e-01 2.41283294e-01 5.91237679e-02\n",
      " 1.33147447e-01 3.28813160e+00 1.92880739e-01 5.14144796e-02\n",
      " 8.39515432e-02 1.15982493e-01 1.96402123e-01 2.95368404e-01\n",
      " 2.91400561e-01 4.75713422e-02 2.09250007e-01 5.73714146e-01\n",
      " 3.22381757e-01 7.98106447e-02 4.02300914e-01 1.69720318e-01\n",
      " 1.54979284e-01 2.96647649e-03 1.93357614e-01 2.40970495e-02\n",
      " 2.26386444e-01]\n",
      "[2.96647649e-03 2.40970495e-02 3.16184601e-02 3.87949288e-02\n",
      " 4.38693593e-02 4.75713422e-02 4.87177390e-02 5.14144796e-02\n",
      " 5.21119811e-02 5.91237679e-02 7.01443130e-02 7.98106447e-02\n",
      " 8.21561003e-02 8.39515432e-02 9.31715940e-02 1.08850927e-01\n",
      " 1.15982493e-01 1.21851954e-01 1.24493247e-01 1.33147447e-01\n",
      " 1.40829155e-01 1.54979284e-01 1.57354384e-01 1.69720318e-01\n",
      " 1.92880739e-01 1.93357614e-01 1.94067631e-01 1.96402123e-01\n",
      " 2.03702373e-01 2.09250007e-01 2.17311538e-01 2.25525567e-01\n",
      " 2.26386444e-01 2.38124736e-01 2.41283294e-01 2.49638213e-01\n",
      " 2.64768669e-01 2.81414696e-01 2.91400561e-01 2.95368404e-01\n",
      " 3.00810918e-01 3.14838933e-01 3.22381757e-01 3.59617056e-01\n",
      " 3.66904733e-01 4.02300914e-01 5.73714146e-01 3.28813160e+00\n",
      " 4.22018709e+00]\n"
     ]
    },
    {
     "data": {
      "image/png": "[encoded data removed]",
      "text/plain": [
       "<Figure size 432x288 with 1 Axes>"
      ]
     },
     "metadata": {
      "needs_background": "light"
     },
     "output_type": "display_data"
    }
   ],
   "source": [
    "theta=np.zeros(d)\n",
    "theta[0:10]=3\n",
    "theta[10:30]=7\n",
    "theta[30:40]=3.5\n",
    "theta[40:d]=4\n",
    "\n",
    "\n",
    "\n",
    "def echs(n): # fonction qui renvoie  une matrice dont la i-ème ligne est le vecteur delta associé a  l'échantillon Yi\n",
    "    D=np.zeros((n,d-1))\n",
    "    for i in range(n):\n",
    "        Y_=theta+1/np.sqrt(d)*np.random.normal(0,1,d)\n",
    "        D[i,:]=np.array([np.abs((Y_[j+1]-Y_[j])/1) for j in range(d-1)])\n",
    "    return(D)\n",
    "\n",
    "\n",
    "\n",
    "Y_=theta+1/np.sqrt(d)*np.random.normal(0,1,d)\n",
    "theta_hat=np.array([thetaH(Y_[i],0) for i in range(d)])\n",
    "\n",
    "#Création d'une fonction mean appliquée au vecteur Y\n",
    "def moy(Y,nb):\n",
    "    return([np.mean(Y[k:k+nb])for k in range(len(Y)-nb)])\n",
    "\n",
    "#Plot selon les différentes valeur moyenne de Y\n",
    "plt.plot([k for k in range(d-3)],moy(Y_,3))\n",
    "plt.show()\n",
    "plt.hist(Y_,bins=10)\n",
    "plt.show()\n",
    "Delta=np.array([np.abs((Y_[j+1]-Y_[j])/1) for j in range(d-1)])\n",
    "\n",
    "#Fixation du seuil :\n",
    "pos=[]\n",
    "for i in range(len(Delta)):\n",
    "    if(Delta[i]>0.38):\n",
    "        pos.append(i+1)\n",
    "#Plot des différences Delta_j=Y_{j+1}-Y{j}\n",
    "plt.plot(Delta,label=\"$\\\\Delta$\")\n",
    "plt.legend()\n",
    "plt.show()\n",
    "plt.plot(Y_,label=\"Y_\")\n",
    "plt.legend()\n",
    "print(pos)\n",
    "print(Delta)\n",
    "Delta.sort()\n",
    "print(Delta)"
   ]
  },
  {
   "cell_type": "markdown",
   "metadata": {},
   "source": [
    "On met en lumière dans ce qui va suivre la méthode pour détecter nos différentes ruptures en premier temps et les extraires par la suite.  "
   ]
  },
  {
   "cell_type": "code",
   "execution_count": 23,
   "metadata": {},
   "outputs": [
    {
     "name": "stdout",
     "output_type": "stream",
     "text": [
      "[10, 30]\n"
     ]
    }
   ],
   "source": [
    "Ds=echs(1000)\n",
    "pos=[] # Initialisation des positions\n",
    "Dm=[]\n",
    "for j in range(d-1):\n",
    "    Dm.append(np.mean(Ds[:,j]))\n",
    "    \n",
    "\n",
    "\n",
    "for i in range(len(Dm)):\n",
    "    if(Dm[i]>0.5):\n",
    "        pos.append(i+1)\n",
    "print(pos)\n"
   ]
  },
  {
   "cell_type": "markdown",
   "metadata": {},
   "source": [
    "## Fenêtre de Test collection des données grâce à une API pour les donées réelles"
   ]
  },
  {
   "cell_type": "code",
   "execution_count": 24,
   "metadata": {},
   "outputs": [],
   "source": [
    "# from bs4 import BeautifulSoup\n",
    "# import csv\n",
    "# from urllib.request import urlopen\n",
    "\n",
    "# basicurl = 'http://webcancer.invs.sante.fr/mortalite_8408/print.php?return_url=%2Fmortalite_8408%2Fdonnees_localisation%2Fevolution%2Flocal.php%3Flocalisation%3DL{location}&data=tab_CI_02_GR_L{location}_S{gender}'\n",
    "# locationlist = [\"0\" + str(i) for i in range(1,10)] + [str(i) for i in range(10,27)] + [\"99\"]\n",
    "# validchars = ' abcdefghijklmnopqrstuvwxyzABCDEFGHIJKLMNOPQRSTUVWXYZ0123456789'\n",
    "\n",
    "\n",
    "# def souptocsv(basicurl, validchars, location, gender):\n",
    "#     try:\n",
    "#         soup = BeautifulSoup(urlopen(basicurl.format(location=location,gender=gender)))\n",
    "#         tables = soup.findAll('table') #cherche les tableaux dans la page\n",
    "#         table1 = tables[0]\n",
    "#         table2 = tables[1]\n",
    "#         rows = []\n",
    "#         for row in table1.find_all('tr'): #tr et td marquent les séparations\n",
    "#             rows.append([val.text for val in row.find_all('td')])\n",
    "\n",
    "#         title = gender + \"\".join([c for c in rows[1][0] if c in validchars])\n",
    "#         headers = [header.text for header in table2.find_all('th')]\n",
    "\n",
    "#         rows = []\n",
    "#         for row in table2.find_all('tr'):\n",
    "#             rows.append([val.text.encode('utf8') for val in row.find_all('td')])\n",
    "#         folder = 'Mortalite/'\n",
    "        \n",
    "#         with open(folder + title + '.csv', 'w', newline='') as f:\n",
    "#             writer = csv.writer(f)\n",
    "#             writer.writerow(headers)\n",
    "#             writer.writerows(row for row in rows if row)\n",
    "#     print(writer)\n",
    "#     except:\n",
    "#         print(location + gender)\n",
    "\n",
    "# for i in locationlist:\n",
    "#     souptocsv(basicurl, validchars, i, \"1\")\n",
    "#     souptocsv(basicurl, validchars, i, \"2\")\n",
    "    \n",
    "    \n",
    "# print(table1)"
   ]
  },
  {
   "cell_type": "markdown",
   "metadata": {},
   "source": [
    "## Partie III : Etudes sur données réelles"
   ]
  },
  {
   "cell_type": "markdown",
   "metadata": {},
   "source": [
    "Pour cette partie on implémentera la méthode utilisé dans la partie 2 sur des données relatives au domaine automobile comme le montre le data frame impélmenté ci-dessous. "
   ]
  },
  {
   "cell_type": "code",
   "execution_count": 25,
   "metadata": {},
   "outputs": [],
   "source": [
    "import pandas as pd\n",
    "import os\n",
    "\n",
    "os.getcwd()\n",
    "os.chdir('C:\\\\Users\\\\USER INFO\\Desktop\\json')\n",
    "\n",
    "df_automobile = pd.read_csv(\"Automobile_data.csv\") "
   ]
  },
  {
   "cell_type": "code",
   "execution_count": 26,
   "metadata": {},
   "outputs": [
    {
     "data": {
      "text/html": [
       "<div>\n",
       "<style scoped>\n",
       "    .dataframe tbody tr th:only-of-type {\n",
       "        vertical-align: middle;\n",
       "    }\n",
       "\n",
       "    .dataframe tbody tr th {\n",
       "        vertical-align: top;\n",
       "    }\n",
       "\n",
       "    .dataframe thead th {\n",
       "        text-align: right;\n",
       "    }\n",
       "</style>\n",
       "<table border=\"1\" class=\"dataframe\">\n",
       "  <thead>\n",
       "    <tr style=\"text-align: right;\">\n",
       "      <th></th>\n",
       "      <th>symboling</th>\n",
       "      <th>normalized-losses</th>\n",
       "      <th>make</th>\n",
       "      <th>fuel-type</th>\n",
       "      <th>aspiration</th>\n",
       "      <th>num-of-doors</th>\n",
       "      <th>body-style</th>\n",
       "      <th>drive-wheels</th>\n",
       "      <th>engine-location</th>\n",
       "      <th>wheel-base</th>\n",
       "      <th>...</th>\n",
       "      <th>engine-size</th>\n",
       "      <th>fuel-system</th>\n",
       "      <th>bore</th>\n",
       "      <th>stroke</th>\n",
       "      <th>compression-ratio</th>\n",
       "      <th>horsepower</th>\n",
       "      <th>peak-rpm</th>\n",
       "      <th>city-mpg</th>\n",
       "      <th>highway-mpg</th>\n",
       "      <th>price</th>\n",
       "    </tr>\n",
       "  </thead>\n",
       "  <tbody>\n",
       "    <tr>\n",
       "      <td>0</td>\n",
       "      <td>3</td>\n",
       "      <td>?</td>\n",
       "      <td>alfa-romero</td>\n",
       "      <td>gas</td>\n",
       "      <td>std</td>\n",
       "      <td>two</td>\n",
       "      <td>convertible</td>\n",
       "      <td>rwd</td>\n",
       "      <td>front</td>\n",
       "      <td>88.6</td>\n",
       "      <td>...</td>\n",
       "      <td>130</td>\n",
       "      <td>mpfi</td>\n",
       "      <td>3.47</td>\n",
       "      <td>2.68</td>\n",
       "      <td>9.0</td>\n",
       "      <td>111</td>\n",
       "      <td>5000</td>\n",
       "      <td>21</td>\n",
       "      <td>27</td>\n",
       "      <td>13495</td>\n",
       "    </tr>\n",
       "    <tr>\n",
       "      <td>1</td>\n",
       "      <td>3</td>\n",
       "      <td>?</td>\n",
       "      <td>alfa-romero</td>\n",
       "      <td>gas</td>\n",
       "      <td>std</td>\n",
       "      <td>two</td>\n",
       "      <td>convertible</td>\n",
       "      <td>rwd</td>\n",
       "      <td>front</td>\n",
       "      <td>88.6</td>\n",
       "      <td>...</td>\n",
       "      <td>130</td>\n",
       "      <td>mpfi</td>\n",
       "      <td>3.47</td>\n",
       "      <td>2.68</td>\n",
       "      <td>9.0</td>\n",
       "      <td>111</td>\n",
       "      <td>5000</td>\n",
       "      <td>21</td>\n",
       "      <td>27</td>\n",
       "      <td>16500</td>\n",
       "    </tr>\n",
       "    <tr>\n",
       "      <td>2</td>\n",
       "      <td>1</td>\n",
       "      <td>?</td>\n",
       "      <td>alfa-romero</td>\n",
       "      <td>gas</td>\n",
       "      <td>std</td>\n",
       "      <td>two</td>\n",
       "      <td>hatchback</td>\n",
       "      <td>rwd</td>\n",
       "      <td>front</td>\n",
       "      <td>94.5</td>\n",
       "      <td>...</td>\n",
       "      <td>152</td>\n",
       "      <td>mpfi</td>\n",
       "      <td>2.68</td>\n",
       "      <td>3.47</td>\n",
       "      <td>9.0</td>\n",
       "      <td>154</td>\n",
       "      <td>5000</td>\n",
       "      <td>19</td>\n",
       "      <td>26</td>\n",
       "      <td>16500</td>\n",
       "    </tr>\n",
       "    <tr>\n",
       "      <td>3</td>\n",
       "      <td>2</td>\n",
       "      <td>164</td>\n",
       "      <td>audi</td>\n",
       "      <td>gas</td>\n",
       "      <td>std</td>\n",
       "      <td>four</td>\n",
       "      <td>sedan</td>\n",
       "      <td>fwd</td>\n",
       "      <td>front</td>\n",
       "      <td>99.8</td>\n",
       "      <td>...</td>\n",
       "      <td>109</td>\n",
       "      <td>mpfi</td>\n",
       "      <td>3.19</td>\n",
       "      <td>3.4</td>\n",
       "      <td>10.0</td>\n",
       "      <td>102</td>\n",
       "      <td>5500</td>\n",
       "      <td>24</td>\n",
       "      <td>30</td>\n",
       "      <td>13950</td>\n",
       "    </tr>\n",
       "    <tr>\n",
       "      <td>4</td>\n",
       "      <td>2</td>\n",
       "      <td>164</td>\n",
       "      <td>audi</td>\n",
       "      <td>gas</td>\n",
       "      <td>std</td>\n",
       "      <td>four</td>\n",
       "      <td>sedan</td>\n",
       "      <td>4wd</td>\n",
       "      <td>front</td>\n",
       "      <td>99.4</td>\n",
       "      <td>...</td>\n",
       "      <td>136</td>\n",
       "      <td>mpfi</td>\n",
       "      <td>3.19</td>\n",
       "      <td>3.4</td>\n",
       "      <td>8.0</td>\n",
       "      <td>115</td>\n",
       "      <td>5500</td>\n",
       "      <td>18</td>\n",
       "      <td>22</td>\n",
       "      <td>17450</td>\n",
       "    </tr>\n",
       "    <tr>\n",
       "      <td>...</td>\n",
       "      <td>...</td>\n",
       "      <td>...</td>\n",
       "      <td>...</td>\n",
       "      <td>...</td>\n",
       "      <td>...</td>\n",
       "      <td>...</td>\n",
       "      <td>...</td>\n",
       "      <td>...</td>\n",
       "      <td>...</td>\n",
       "      <td>...</td>\n",
       "      <td>...</td>\n",
       "      <td>...</td>\n",
       "      <td>...</td>\n",
       "      <td>...</td>\n",
       "      <td>...</td>\n",
       "      <td>...</td>\n",
       "      <td>...</td>\n",
       "      <td>...</td>\n",
       "      <td>...</td>\n",
       "      <td>...</td>\n",
       "      <td>...</td>\n",
       "    </tr>\n",
       "    <tr>\n",
       "      <td>200</td>\n",
       "      <td>-1</td>\n",
       "      <td>95</td>\n",
       "      <td>volvo</td>\n",
       "      <td>gas</td>\n",
       "      <td>std</td>\n",
       "      <td>four</td>\n",
       "      <td>sedan</td>\n",
       "      <td>rwd</td>\n",
       "      <td>front</td>\n",
       "      <td>109.1</td>\n",
       "      <td>...</td>\n",
       "      <td>141</td>\n",
       "      <td>mpfi</td>\n",
       "      <td>3.78</td>\n",
       "      <td>3.15</td>\n",
       "      <td>9.5</td>\n",
       "      <td>114</td>\n",
       "      <td>5400</td>\n",
       "      <td>23</td>\n",
       "      <td>28</td>\n",
       "      <td>16845</td>\n",
       "    </tr>\n",
       "    <tr>\n",
       "      <td>201</td>\n",
       "      <td>-1</td>\n",
       "      <td>95</td>\n",
       "      <td>volvo</td>\n",
       "      <td>gas</td>\n",
       "      <td>turbo</td>\n",
       "      <td>four</td>\n",
       "      <td>sedan</td>\n",
       "      <td>rwd</td>\n",
       "      <td>front</td>\n",
       "      <td>109.1</td>\n",
       "      <td>...</td>\n",
       "      <td>141</td>\n",
       "      <td>mpfi</td>\n",
       "      <td>3.78</td>\n",
       "      <td>3.15</td>\n",
       "      <td>8.7</td>\n",
       "      <td>160</td>\n",
       "      <td>5300</td>\n",
       "      <td>19</td>\n",
       "      <td>25</td>\n",
       "      <td>19045</td>\n",
       "    </tr>\n",
       "    <tr>\n",
       "      <td>202</td>\n",
       "      <td>-1</td>\n",
       "      <td>95</td>\n",
       "      <td>volvo</td>\n",
       "      <td>gas</td>\n",
       "      <td>std</td>\n",
       "      <td>four</td>\n",
       "      <td>sedan</td>\n",
       "      <td>rwd</td>\n",
       "      <td>front</td>\n",
       "      <td>109.1</td>\n",
       "      <td>...</td>\n",
       "      <td>173</td>\n",
       "      <td>mpfi</td>\n",
       "      <td>3.58</td>\n",
       "      <td>2.87</td>\n",
       "      <td>8.8</td>\n",
       "      <td>134</td>\n",
       "      <td>5500</td>\n",
       "      <td>18</td>\n",
       "      <td>23</td>\n",
       "      <td>21485</td>\n",
       "    </tr>\n",
       "    <tr>\n",
       "      <td>203</td>\n",
       "      <td>-1</td>\n",
       "      <td>95</td>\n",
       "      <td>volvo</td>\n",
       "      <td>diesel</td>\n",
       "      <td>turbo</td>\n",
       "      <td>four</td>\n",
       "      <td>sedan</td>\n",
       "      <td>rwd</td>\n",
       "      <td>front</td>\n",
       "      <td>109.1</td>\n",
       "      <td>...</td>\n",
       "      <td>145</td>\n",
       "      <td>idi</td>\n",
       "      <td>3.01</td>\n",
       "      <td>3.4</td>\n",
       "      <td>23.0</td>\n",
       "      <td>106</td>\n",
       "      <td>4800</td>\n",
       "      <td>26</td>\n",
       "      <td>27</td>\n",
       "      <td>22470</td>\n",
       "    </tr>\n",
       "    <tr>\n",
       "      <td>204</td>\n",
       "      <td>-1</td>\n",
       "      <td>95</td>\n",
       "      <td>volvo</td>\n",
       "      <td>gas</td>\n",
       "      <td>turbo</td>\n",
       "      <td>four</td>\n",
       "      <td>sedan</td>\n",
       "      <td>rwd</td>\n",
       "      <td>front</td>\n",
       "      <td>109.1</td>\n",
       "      <td>...</td>\n",
       "      <td>141</td>\n",
       "      <td>mpfi</td>\n",
       "      <td>3.78</td>\n",
       "      <td>3.15</td>\n",
       "      <td>9.5</td>\n",
       "      <td>114</td>\n",
       "      <td>5400</td>\n",
       "      <td>19</td>\n",
       "      <td>25</td>\n",
       "      <td>22625</td>\n",
       "    </tr>\n",
       "  </tbody>\n",
       "</table>\n",
       "<p>205 rows × 26 columns</p>\n",
       "</div>"
      ],
      "text/plain": [
       "     symboling normalized-losses         make fuel-type aspiration  \\\n",
       "0            3                 ?  alfa-romero       gas        std   \n",
       "1            3                 ?  alfa-romero       gas        std   \n",
       "2            1                 ?  alfa-romero       gas        std   \n",
       "3            2               164         audi       gas        std   \n",
       "4            2               164         audi       gas        std   \n",
       "..         ...               ...          ...       ...        ...   \n",
       "200         -1                95        volvo       gas        std   \n",
       "201         -1                95        volvo       gas      turbo   \n",
       "202         -1                95        volvo       gas        std   \n",
       "203         -1                95        volvo    diesel      turbo   \n",
       "204         -1                95        volvo       gas      turbo   \n",
       "\n",
       "    num-of-doors   body-style drive-wheels engine-location  wheel-base  ...  \\\n",
       "0            two  convertible          rwd           front        88.6  ...   \n",
       "1            two  convertible          rwd           front        88.6  ...   \n",
       "2            two    hatchback          rwd           front        94.5  ...   \n",
       "3           four        sedan          fwd           front        99.8  ...   \n",
       "4           four        sedan          4wd           front        99.4  ...   \n",
       "..           ...          ...          ...             ...         ...  ...   \n",
       "200         four        sedan          rwd           front       109.1  ...   \n",
       "201         four        sedan          rwd           front       109.1  ...   \n",
       "202         four        sedan          rwd           front       109.1  ...   \n",
       "203         four        sedan          rwd           front       109.1  ...   \n",
       "204         four        sedan          rwd           front       109.1  ...   \n",
       "\n",
       "     engine-size  fuel-system  bore  stroke compression-ratio horsepower  \\\n",
       "0            130         mpfi  3.47    2.68               9.0        111   \n",
       "1            130         mpfi  3.47    2.68               9.0        111   \n",
       "2            152         mpfi  2.68    3.47               9.0        154   \n",
       "3            109         mpfi  3.19     3.4              10.0        102   \n",
       "4            136         mpfi  3.19     3.4               8.0        115   \n",
       "..           ...          ...   ...     ...               ...        ...   \n",
       "200          141         mpfi  3.78    3.15               9.5        114   \n",
       "201          141         mpfi  3.78    3.15               8.7        160   \n",
       "202          173         mpfi  3.58    2.87               8.8        134   \n",
       "203          145          idi  3.01     3.4              23.0        106   \n",
       "204          141         mpfi  3.78    3.15               9.5        114   \n",
       "\n",
       "     peak-rpm city-mpg highway-mpg  price  \n",
       "0        5000       21          27  13495  \n",
       "1        5000       21          27  16500  \n",
       "2        5000       19          26  16500  \n",
       "3        5500       24          30  13950  \n",
       "4        5500       18          22  17450  \n",
       "..        ...      ...         ...    ...  \n",
       "200      5400       23          28  16845  \n",
       "201      5300       19          25  19045  \n",
       "202      5500       18          23  21485  \n",
       "203      4800       26          27  22470  \n",
       "204      5400       19          25  22625  \n",
       "\n",
       "[205 rows x 26 columns]"
      ]
     },
     "execution_count": 26,
     "metadata": {},
     "output_type": "execute_result"
    }
   ],
   "source": [
    "df_automobile"
   ]
  },
  {
   "cell_type": "markdown",
   "metadata": {},
   "source": [
    "Notre Data frame contient 205 lignes pour 26 colonnes et comme le montre le graphe qui suit la donnée liée au $\\textit{\"while base\"}$ est la plus proche à ce qu'on cherche afin de détecter les ruptures comme le montre le graphe "
   ]
  },
  {
   "cell_type": "code",
   "execution_count": 27,
   "metadata": {},
   "outputs": [
    {
     "data": {
      "text/plain": [
       "[<matplotlib.lines.Line2D at 0xc828a48>]"
      ]
     },
     "execution_count": 27,
     "metadata": {},
     "output_type": "execute_result"
    },
    {
     "data": {
      "image/png": "[encoded data removed]",
      "text/plain": [
       "<Figure size 432x288 with 1 Axes>"
      ]
     },
     "metadata": {
      "needs_background": "light"
     },
     "output_type": "display_data"
    }
   ],
   "source": [
    "wb=df_automobile['wheel-base']\n",
    "plt.plot(wb)\n",
    "plt.plot(wb,\".\")"
   ]
  },
  {
   "cell_type": "code",
   "execution_count": 52,
   "metadata": {},
   "outputs": [
    {
     "data": {
      "image/png": "[encoded data removed]",
      "text/plain": [
       "<Figure size 432x288 with 1 Axes>"
      ]
     },
     "metadata": {
      "needs_background": "light"
     },
     "output_type": "display_data"
    },
    {
     "data": {
      "image/png": "[encoded data removed]",
      "text/plain": [
       "<Figure size 432x288 with 1 Axes>"
      ]
     },
     "metadata": {
      "needs_background": "light"
     },
     "output_type": "display_data"
    },
    {
     "name": "stdout",
     "output_type": "stream",
     "text": [
      "points de ruptures sont:\n",
      "[2, 3, 4, 5, 9, 17, 18, 28, 29, 43, 46, 49, 69, 72, 73, 74, 75, 79, 98, 106, 123, 124, 125, 129, 140, 5, 9, 13, 18, 20, 29, 31, 34, 43, 46, 49, 54, 58, 64, 66, 69, 75, 79, 81, 84, 88, 98, 100, 103, 106, 108, 110, 112, 114, 116, 117, 125, 129, 131, 137, 140, 143, 147, 149, 162, 166, 172, 177, 179, 181, 188, 190, 193, 199]\n",
      "74\n"
     ]
    }
   ],
   "source": [
    "wb=df_automobile['wheel-base'].tolist()\n",
    "\n",
    "x=np.linspace(0,200,len(wb))\n",
    "\n",
    "#Fonction qui enlève les points singuliers c'est à dire les points éloignés de leurs voisins des deux côtés \n",
    "#Et qui renvoie un vecteur identique au vecteur d'entrée sauf pour les points singuliers ainsi que la position\n",
    "#Des points singuliers\n",
    "def nettoyage(v,to):\n",
    "    lst_net=[]\n",
    "    lst_pos=[]\n",
    "    t=v.copy()\n",
    "    for i in range(1,len(v)-1):\n",
    "        if ((abs (t[i]-t[i-1])>to) & (abs(t[i]-t[i+1])>to)):\n",
    "            lst_net.append(t[i])\n",
    "            lst_pos.append(i)\n",
    "            t[i]=t[i-1]\n",
    "    \n",
    "    v_new=t#[x for x in v if x!=-1]\n",
    "    return(v_new,lst_pos)\n",
    "\n",
    "\n",
    "\n",
    "\n",
    "\n",
    "#Implémentation de la détection de la rupture\n",
    "(v,pos1)=nettoyage(wb,0.1)\n",
    "\n",
    "#Affichage du nettoyage\n",
    "\n",
    "plt.plot(wb)\n",
    "plt.show()\n",
    "plt.plot(v)\n",
    "plt.show()\n",
    "\n",
    "\n",
    "#On définit delta comme étant un vecteur collectionnant la différence entre les points successifs  \n",
    "#dans le cas de notre base c'est soit 0 soit un nombre strictement supérieur à 0\n",
    "\n",
    "Delta=[abs(v[j+1]-v[j]) for j in range(len(v)-1)]\n",
    "\n",
    "pos2=np.array([i for i in range(len(Delta)) if Delta[i]!=0 ])\n",
    "\n",
    "#Points de rupture\n",
    "\n",
    "print(\"points de ruptures sont:\")\n",
    "print(pos1+pos2.tolist())\n",
    "print(len(pos1+pos2.tolist()))"
   ]
  },
  {
   "cell_type": "markdown",
   "metadata": {},
   "source": [
    "### Utilisation de la bibliothèque Ruptures pour détection les points de ruptures à l'aide de fonctions prédéfinies"
   ]
  },
  {
   "cell_type": "code",
   "execution_count": 30,
   "metadata": {},
   "outputs": [
    {
     "name": "stdout",
     "output_type": "stream",
     "text": [
      "Collecting ruptures\n",
      "  Downloading https://files.pythonhosted.org/packages/ec/e8/ff4c39efd9317fa6ddb23ab3c7eb6b8bc469f50159bc7a012e5d23907c66/ruptures-1.1.5-cp37-cp37m-win_amd64.whl (394kB)\n",
      "Requirement already satisfied: numpy in c:\\users\\user info\\anaconda3\\lib\\site-packages (from ruptures) (1.16.5)\n",
      "Requirement already satisfied: scipy in c:\\users\\user info\\anaconda3\\lib\\site-packages (from ruptures) (1.3.1)\n",
      "Installing collected packages: ruptures\n",
      "Successfully installed ruptures-1.1.5\n"
     ]
    }
   ],
   "source": [
    "# !pip install ruptures"
   ]
  },
  {
   "cell_type": "code",
   "execution_count": 61,
   "metadata": {},
   "outputs": [
    {
     "name": "stdout",
     "output_type": "stream",
     "text": [
      "[5, 10, 15, 20, 25, 30, 35, 40, 45, 50, 55, 60, 65, 70, 75, 80, 85, 90, 95, 100, 105, 110, 115, 120, 125, 130, 135, 140, 145, 150, 155, 160, 165, 170, 175, 180, 190, 195, 200, 205]\n"
     ]
    }
   ],
   "source": [
    "import matplotlib.pyplot as plt\n",
    "import ruptures as rpt\n",
    "wb=df_automobile['wheel-base']\n",
    "model = rpt.Dynp(model=\"l1\")\n",
    "y = np.array(wb.tolist())\n",
    "model.fit(y)\n",
    "breaks = model.predict(n_bkps=40-1)\n",
    "\n",
    "breaks\n",
    "pos=nettoyage(y,0.005)[1]\n",
    "print(breaks)"
   ]
  }
 ],
 "metadata": {
  "kernelspec": {
   "display_name": "Python 3",
   "language": "python",
   "name": "python3"
  },
  "language_info": {
   "codemirror_mode": {
    "name": "ipython",
    "version": 3
   },
   "file_extension": ".py",
   "mimetype": "text/x-python",
   "name": "python",
   "nbconvert_exporter": "python",
   "pygments_lexer": "ipython3",
   "version": "3.7.4"
  }
 },
 "nbformat": 4,
 "nbformat_minor": 5
}
